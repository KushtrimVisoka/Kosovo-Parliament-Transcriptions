{
 "cells": [
  {
   "attachments": {},
   "cell_type": "markdown",
   "metadata": {},
   "source": [
    "# Install and load packages"
   ]
  },
  {
   "cell_type": "code",
   "execution_count": 1,
   "metadata": {},
   "outputs": [],
   "source": [
    "# !pip3 install datasets\n",
    "from datasets import load_dataset\n",
    "import pandas as pd"
   ]
  },
  {
   "attachments": {},
   "cell_type": "markdown",
   "metadata": {},
   "source": [
    "# Load dataset"
   ]
  },
  {
   "cell_type": "code",
   "execution_count": 2,
   "metadata": {},
   "outputs": [],
   "source": [
    "dataset = load_dataset('Kushtrim/Kosovo-Parliament-Transcriptions')\n",
    "dataset = dataset['train']"
   ]
  },
  {
   "attachments": {},
   "cell_type": "markdown",
   "metadata": {},
   "source": [
    "# Split dataset into train and test\n",
    "\n",
    "Split the dataset into train and test sets if you want to use the dataset for training a model. If you want to use the dataset for evaluation, you can skip this step."
   ]
  },
  {
   "cell_type": "code",
   "execution_count": 3,
   "metadata": {},
   "outputs": [
    {
     "data": {
      "text/plain": [
       "DatasetDict({\n",
       "    train: Dataset({\n",
       "        features: ['text', 'speaker', 'date', 'id', 'num_tokens'],\n",
       "        num_rows: 99888\n",
       "    })\n",
       "    test: Dataset({\n",
       "        features: ['text', 'speaker', 'date', 'id', 'num_tokens'],\n",
       "        num_rows: 24973\n",
       "    })\n",
       "})"
      ]
     },
     "execution_count": 3,
     "metadata": {},
     "output_type": "execute_result"
    }
   ],
   "source": [
    "dataset = dataset.train_test_split(test_size=0.2)\n",
    "dataset"
   ]
  },
  {
   "attachments": {},
   "cell_type": "markdown",
   "metadata": {},
   "source": [
    "# Convert to pandas dataframe"
   ]
  },
  {
   "cell_type": "code",
   "execution_count": 4,
   "metadata": {},
   "outputs": [
    {
     "data": {
      "text/html": [
       "<div>\n",
       "<style scoped>\n",
       "    .dataframe tbody tr th:only-of-type {\n",
       "        vertical-align: middle;\n",
       "    }\n",
       "\n",
       "    .dataframe tbody tr th {\n",
       "        vertical-align: top;\n",
       "    }\n",
       "\n",
       "    .dataframe thead th {\n",
       "        text-align: right;\n",
       "    }\n",
       "</style>\n",
       "<table border=\"1\" class=\"dataframe\">\n",
       "  <thead>\n",
       "    <tr style=\"text-align: right;\">\n",
       "      <th></th>\n",
       "      <th>text</th>\n",
       "      <th>speaker</th>\n",
       "      <th>date</th>\n",
       "      <th>num_tokens</th>\n",
       "    </tr>\n",
       "    <tr>\n",
       "      <th>id</th>\n",
       "      <th></th>\n",
       "      <th></th>\n",
       "      <th></th>\n",
       "      <th></th>\n",
       "    </tr>\n",
       "  </thead>\n",
       "  <tbody>\n",
       "    <tr>\n",
       "      <th>2023-12-15_0</th>\n",
       "      <td>Republika e Kosovës  Republika Kosovo -Republi...</td>\n",
       "      <td>None</td>\n",
       "      <td>2023-12-15</td>\n",
       "      <td>291</td>\n",
       "    </tr>\n",
       "    <tr>\n",
       "      <th>2023-12-15_1</th>\n",
       "      <td>Të nderuar deputetë,  I nderuar kryeministër, ...</td>\n",
       "      <td>KRYETARI</td>\n",
       "      <td>2023-12-15</td>\n",
       "      <td>310</td>\n",
       "    </tr>\n",
       "    <tr>\n",
       "      <th>2023-12-15_2</th>\n",
       "      <td>I nderuar kryetar i Kuvendit, z. Konjufca,  I ...</td>\n",
       "      <td>VJOSA OSMANI SADRIU</td>\n",
       "      <td>2023-12-15</td>\n",
       "      <td>10086</td>\n",
       "    </tr>\n",
       "    <tr>\n",
       "      <th>2023-12-15_3</th>\n",
       "      <td>E falënderojmë Presidenten e Republikës për fj...</td>\n",
       "      <td>KRYETARI</td>\n",
       "      <td>2023-12-15</td>\n",
       "      <td>117</td>\n",
       "    </tr>\n",
       "    <tr>\n",
       "      <th>2023-12-14_0</th>\n",
       "      <td>Republika e Kosovës  Republika Kosovo -Republi...</td>\n",
       "      <td>None</td>\n",
       "      <td>2023-12-14</td>\n",
       "      <td>299</td>\n",
       "    </tr>\n",
       "  </tbody>\n",
       "</table>\n",
       "</div>"
      ],
      "text/plain": [
       "                                                           text  \\\n",
       "id                                                                \n",
       "2023-12-15_0  Republika e Kosovës  Republika Kosovo -Republi...   \n",
       "2023-12-15_1  Të nderuar deputetë,  I nderuar kryeministër, ...   \n",
       "2023-12-15_2  I nderuar kryetar i Kuvendit, z. Konjufca,  I ...   \n",
       "2023-12-15_3  E falënderojmë Presidenten e Republikës për fj...   \n",
       "2023-12-14_0  Republika e Kosovës  Republika Kosovo -Republi...   \n",
       "\n",
       "                          speaker        date  num_tokens  \n",
       "id                                                         \n",
       "2023-12-15_0                 None  2023-12-15         291  \n",
       "2023-12-15_1             KRYETARI  2023-12-15         310  \n",
       "2023-12-15_2  VJOSA OSMANI SADRIU  2023-12-15       10086  \n",
       "2023-12-15_3             KRYETARI  2023-12-15         117  \n",
       "2023-12-14_0                 None  2023-12-14         299  "
      ]
     },
     "execution_count": 4,
     "metadata": {},
     "output_type": "execute_result"
    }
   ],
   "source": [
    "# Load the dataset into a pandas DataFrame.\n",
    "dataset = load_dataset('Kushtrim/Kosovo-Parliament-Transcriptions')\n",
    "dataset = pd.DataFrame(dataset['train']).set_index('id')\n",
    "dataset.head()"
   ]
  },
  {
   "attachments": {},
   "cell_type": "markdown",
   "metadata": {},
   "source": [
    "# Search by speaker "
   ]
  },
  {
   "cell_type": "code",
   "execution_count": 5,
   "metadata": {},
   "outputs": [],
   "source": [
    "# Search for speakers in the transcript\n",
    "def search_speaker(df, keyword):\n",
    "    keyword = keyword.upper()\n",
    "    keyword = keyword.strip()\n",
    "    df['speaker'].fillna('', inplace=True)\n",
    "    return df[df['speaker'].str.contains(keyword, case=False)]"
   ]
  },
  {
   "cell_type": "code",
   "execution_count": 6,
   "metadata": {},
   "outputs": [
    {
     "data": {
      "text/html": [
       "<div>\n",
       "<style scoped>\n",
       "    .dataframe tbody tr th:only-of-type {\n",
       "        vertical-align: middle;\n",
       "    }\n",
       "\n",
       "    .dataframe tbody tr th {\n",
       "        vertical-align: top;\n",
       "    }\n",
       "\n",
       "    .dataframe thead th {\n",
       "        text-align: right;\n",
       "    }\n",
       "</style>\n",
       "<table border=\"1\" class=\"dataframe\">\n",
       "  <thead>\n",
       "    <tr style=\"text-align: right;\">\n",
       "      <th></th>\n",
       "      <th>text</th>\n",
       "      <th>speaker</th>\n",
       "      <th>date</th>\n",
       "      <th>num_tokens</th>\n",
       "    </tr>\n",
       "    <tr>\n",
       "      <th>id</th>\n",
       "      <th></th>\n",
       "      <th></th>\n",
       "      <th></th>\n",
       "      <th></th>\n",
       "    </tr>\n",
       "  </thead>\n",
       "  <tbody>\n",
       "    <tr>\n",
       "      <th>2023-12-14_68</th>\n",
       "      <td>Amendamenti nr. 9.</td>\n",
       "      <td>SARANDA BOGUJEVCI</td>\n",
       "      <td>2023-12-14</td>\n",
       "      <td>8</td>\n",
       "    </tr>\n",
       "    <tr>\n",
       "      <th>2023-12-14_238</th>\n",
       "      <td>Po!  Vetëm për shkak që komunikova me ministri...</td>\n",
       "      <td>SARANDA BOGUJEVCI</td>\n",
       "      <td>2023-12-14</td>\n",
       "      <td>330</td>\n",
       "    </tr>\n",
       "    <tr>\n",
       "      <th>2023-03-09_151</th>\n",
       "      <td>Faleminderit, kryetar! E mora fjalën për t’i s...</td>\n",
       "      <td>SARANDA BOGUJEVCI</td>\n",
       "      <td>2023-03-09</td>\n",
       "      <td>1191</td>\n",
       "    </tr>\n",
       "    <tr>\n",
       "      <th>2023-02-17_8</th>\n",
       "      <td>Të nderuar deputetë! I nderuar President i Rep...</td>\n",
       "      <td>SARANDA BOGUJEVCI</td>\n",
       "      <td>2023-02-17</td>\n",
       "      <td>1113</td>\n",
       "    </tr>\n",
       "    <tr>\n",
       "      <th>2022-04-14_10</th>\n",
       "      <td>Faleminderit, i nderuar kryetar Konjufca! I nd...</td>\n",
       "      <td>SARANDA BOGUJEVCI</td>\n",
       "      <td>2022-04-14</td>\n",
       "      <td>2215</td>\n",
       "    </tr>\n",
       "  </tbody>\n",
       "</table>\n",
       "</div>"
      ],
      "text/plain": [
       "                                                             text  \\\n",
       "id                                                                  \n",
       "2023-12-14_68                                  Amendamenti nr. 9.   \n",
       "2023-12-14_238  Po!  Vetëm për shkak që komunikova me ministri...   \n",
       "2023-03-09_151  Faleminderit, kryetar! E mora fjalën për t’i s...   \n",
       "2023-02-17_8    Të nderuar deputetë! I nderuar President i Rep...   \n",
       "2022-04-14_10   Faleminderit, i nderuar kryetar Konjufca! I nd...   \n",
       "\n",
       "                          speaker        date  num_tokens  \n",
       "id                                                         \n",
       "2023-12-14_68   SARANDA BOGUJEVCI  2023-12-14           8  \n",
       "2023-12-14_238  SARANDA BOGUJEVCI  2023-12-14         330  \n",
       "2023-03-09_151  SARANDA BOGUJEVCI  2023-03-09        1191  \n",
       "2023-02-17_8    SARANDA BOGUJEVCI  2023-02-17        1113  \n",
       "2022-04-14_10   SARANDA BOGUJEVCI  2022-04-14        2215  "
      ]
     },
     "execution_count": 6,
     "metadata": {},
     "output_type": "execute_result"
    }
   ],
   "source": [
    "speaker = search_speaker(dataset, 'Saranda')\n",
    "speaker.head()"
   ]
  },
  {
   "attachments": {},
   "cell_type": "markdown",
   "metadata": {},
   "source": [
    "# Search for keywords"
   ]
  },
  {
   "cell_type": "code",
   "execution_count": 7,
   "metadata": {},
   "outputs": [],
   "source": [
    "# Search for keywords in the transcript\n",
    "def search_keyword(df, keyword):\n",
    "    keyword = keyword.strip()\n",
    "    return df[df['text'].str.contains(keyword, case=False)]"
   ]
  },
  {
   "cell_type": "code",
   "execution_count": 8,
   "metadata": {},
   "outputs": [
    {
     "data": {
      "text/html": [
       "<div>\n",
       "<style scoped>\n",
       "    .dataframe tbody tr th:only-of-type {\n",
       "        vertical-align: middle;\n",
       "    }\n",
       "\n",
       "    .dataframe tbody tr th {\n",
       "        vertical-align: top;\n",
       "    }\n",
       "\n",
       "    .dataframe thead th {\n",
       "        text-align: right;\n",
       "    }\n",
       "</style>\n",
       "<table border=\"1\" class=\"dataframe\">\n",
       "  <thead>\n",
       "    <tr style=\"text-align: right;\">\n",
       "      <th></th>\n",
       "      <th>text</th>\n",
       "      <th>speaker</th>\n",
       "      <th>date</th>\n",
       "      <th>num_tokens</th>\n",
       "    </tr>\n",
       "    <tr>\n",
       "      <th>id</th>\n",
       "      <th></th>\n",
       "      <th></th>\n",
       "      <th></th>\n",
       "      <th></th>\n",
       "    </tr>\n",
       "  </thead>\n",
       "  <tbody>\n",
       "    <tr>\n",
       "      <th>2023-12-15_2</th>\n",
       "      <td>I nderuar kryetar i Kuvendit, z. Konjufca,  I ...</td>\n",
       "      <td>VJOSA OSMANI SADRIU</td>\n",
       "      <td>2023-12-15</td>\n",
       "      <td>10086</td>\n",
       "    </tr>\n",
       "    <tr>\n",
       "      <th>2023-12-01_82</th>\n",
       "      <td>Faleminderit, kryesuese!  Unë para dy muajve e...</td>\n",
       "      <td>VLORA DUMOSHI</td>\n",
       "      <td>2023-12-01</td>\n",
       "      <td>295</td>\n",
       "    </tr>\n",
       "    <tr>\n",
       "      <th>2023-11-30_24</th>\n",
       "      <td>Faleminderit, kryetar!  Sot kemi filluar konst...</td>\n",
       "      <td>HALIL THAÇI</td>\n",
       "      <td>2023-11-30</td>\n",
       "      <td>337</td>\n",
       "    </tr>\n",
       "    <tr>\n",
       "      <th>2023-11-23_2</th>\n",
       "      <td>I nderuar kryetar i Kuvendit, zoti Konjufca!  ...</td>\n",
       "      <td>ARBËR REXHAJ</td>\n",
       "      <td>2023-11-23</td>\n",
       "      <td>1357</td>\n",
       "    </tr>\n",
       "    <tr>\n",
       "      <th>2023-11-23_54</th>\n",
       "      <td>I nderuar kryetar i Kuvendit,  Të nderuar depu...</td>\n",
       "      <td>RAMUSH HARADINAJ</td>\n",
       "      <td>2023-11-23</td>\n",
       "      <td>663</td>\n",
       "    </tr>\n",
       "  </tbody>\n",
       "</table>\n",
       "</div>"
      ],
      "text/plain": [
       "                                                            text  \\\n",
       "id                                                                 \n",
       "2023-12-15_2   I nderuar kryetar i Kuvendit, z. Konjufca,  I ...   \n",
       "2023-12-01_82  Faleminderit, kryesuese!  Unë para dy muajve e...   \n",
       "2023-11-30_24  Faleminderit, kryetar!  Sot kemi filluar konst...   \n",
       "2023-11-23_2   I nderuar kryetar i Kuvendit, zoti Konjufca!  ...   \n",
       "2023-11-23_54  I nderuar kryetar i Kuvendit,  Të nderuar depu...   \n",
       "\n",
       "                           speaker        date  num_tokens  \n",
       "id                                                          \n",
       "2023-12-15_2   VJOSA OSMANI SADRIU  2023-12-15       10086  \n",
       "2023-12-01_82        VLORA DUMOSHI  2023-12-01         295  \n",
       "2023-11-30_24          HALIL THAÇI  2023-11-30         337  \n",
       "2023-11-23_2          ARBËR REXHAJ  2023-11-23        1357  \n",
       "2023-11-23_54     RAMUSH HARADINAJ  2023-11-23         663  "
      ]
     },
     "execution_count": 8,
     "metadata": {},
     "output_type": "execute_result"
    }
   ],
   "source": [
    "keyword = search_keyword(dataset, 'paqe')\n",
    "keyword.head()"
   ]
  }
 ],
 "metadata": {
  "kernelspec": {
   "display_name": "Python 3",
   "language": "python",
   "name": "python3"
  },
  "language_info": {
   "codemirror_mode": {
    "name": "ipython",
    "version": 3
   },
   "file_extension": ".py",
   "mimetype": "text/x-python",
   "name": "python",
   "nbconvert_exporter": "python",
   "pygments_lexer": "ipython3",
   "version": "3.10.11"
  },
  "orig_nbformat": 4
 },
 "nbformat": 4,
 "nbformat_minor": 2
}
