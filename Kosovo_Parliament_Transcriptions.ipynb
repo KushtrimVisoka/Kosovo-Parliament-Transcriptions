{
 "cells": [
  {
   "attachments": {},
   "cell_type": "markdown",
   "metadata": {},
   "source": [
    "# Install and load packages"
   ]
  },
  {
   "cell_type": "code",
   "execution_count": 1,
   "metadata": {},
   "outputs": [],
   "source": [
    "# !pip3 install datasets\n",
    "from datasets import load_dataset\n",
    "import pandas as pd"
   ]
  },
  {
   "attachments": {},
   "cell_type": "markdown",
   "metadata": {},
   "source": [
    "# Load dataset"
   ]
  },
  {
   "cell_type": "code",
   "execution_count": 2,
   "metadata": {},
   "outputs": [
    {
     "name": "stderr",
     "output_type": "stream",
     "text": [
      "Found cached dataset parquet (/Users/kushtrimvisoka/.cache/huggingface/datasets/Kushtrim___parquet/Kushtrim--Kosovo-Parliament-Transcriptions-5e5cebde0638a9d2/0.0.0/2a3b91fbd88a2c90d1dbbb32b460cf621d31bd5b05b934492fdef7d8d6f236ec)\n"
     ]
    },
    {
     "data": {
      "application/vnd.jupyter.widget-view+json": {
       "model_id": "fa5548bbc8cb4361b6576d7c3154524b",
       "version_major": 2,
       "version_minor": 0
      },
      "text/plain": [
       "  0%|          | 0/1 [00:00<?, ?it/s]"
      ]
     },
     "metadata": {},
     "output_type": "display_data"
    }
   ],
   "source": [
    "dataset = load_dataset('Kushtrim/Kosovo-Parliament-Transcriptions')\n",
    "dataset = dataset['train']"
   ]
  },
  {
   "attachments": {},
   "cell_type": "markdown",
   "metadata": {},
   "source": [
    "# Split dataset into train and test\n",
    "\n",
    "Split the dataset into train and test sets if you want to use the dataset for training a model. If you want to use the dataset for evaluation, you can skip this step."
   ]
  },
  {
   "cell_type": "code",
   "execution_count": 3,
   "metadata": {},
   "outputs": [
    {
     "data": {
      "text/plain": [
       "DatasetDict({\n",
       "    train: Dataset({\n",
       "        features: ['text', 'speaker', 'date', 'id'],\n",
       "        num_rows: 96073\n",
       "    })\n",
       "    test: Dataset({\n",
       "        features: ['text', 'speaker', 'date', 'id'],\n",
       "        num_rows: 24019\n",
       "    })\n",
       "})"
      ]
     },
     "execution_count": 3,
     "metadata": {},
     "output_type": "execute_result"
    }
   ],
   "source": [
    "dataset = dataset.train_test_split(test_size=0.2)\n",
    "dataset"
   ]
  },
  {
   "attachments": {},
   "cell_type": "markdown",
   "metadata": {},
   "source": [
    "# Convert to pandas dataframe"
   ]
  },
  {
   "cell_type": "code",
   "execution_count": 4,
   "metadata": {},
   "outputs": [
    {
     "name": "stderr",
     "output_type": "stream",
     "text": [
      "Found cached dataset parquet (/Users/kushtrimvisoka/.cache/huggingface/datasets/Kushtrim___parquet/Kushtrim--Kosovo-Parliament-Transcriptions-5e5cebde0638a9d2/0.0.0/2a3b91fbd88a2c90d1dbbb32b460cf621d31bd5b05b934492fdef7d8d6f236ec)\n"
     ]
    },
    {
     "data": {
      "application/vnd.jupyter.widget-view+json": {
       "model_id": "a5d30bd443ec47cbad41c5b6d5db8fbc",
       "version_major": 2,
       "version_minor": 0
      },
      "text/plain": [
       "  0%|          | 0/1 [00:00<?, ?it/s]"
      ]
     },
     "metadata": {},
     "output_type": "display_data"
    },
    {
     "data": {
      "text/html": [
       "<div>\n",
       "<style scoped>\n",
       "    .dataframe tbody tr th:only-of-type {\n",
       "        vertical-align: middle;\n",
       "    }\n",
       "\n",
       "    .dataframe tbody tr th {\n",
       "        vertical-align: top;\n",
       "    }\n",
       "\n",
       "    .dataframe thead th {\n",
       "        text-align: right;\n",
       "    }\n",
       "</style>\n",
       "<table border=\"1\" class=\"dataframe\">\n",
       "  <thead>\n",
       "    <tr style=\"text-align: right;\">\n",
       "      <th></th>\n",
       "      <th>text</th>\n",
       "      <th>speaker</th>\n",
       "      <th>date</th>\n",
       "    </tr>\n",
       "    <tr>\n",
       "      <th>id</th>\n",
       "      <th></th>\n",
       "      <th></th>\n",
       "      <th></th>\n",
       "    </tr>\n",
       "  </thead>\n",
       "  <tbody>\n",
       "    <tr>\n",
       "      <th>2007-01-11_0</th>\n",
       "      <td>PROVISIONAL INSTITUTIONS OF SELF GOVERNMENT KU...</td>\n",
       "      <td>None</td>\n",
       "      <td>2007-01-11</td>\n",
       "    </tr>\n",
       "    <tr>\n",
       "      <th>2007-01-11_1</th>\n",
       "      <td>Të nderuar kolegë deputetë, i nderuari kryemin...</td>\n",
       "      <td>KOLE BERISHA</td>\n",
       "      <td>2007-01-11</td>\n",
       "    </tr>\n",
       "    <tr>\n",
       "      <th>2007-01-11_10</th>\n",
       "      <td>I nderuari kryetar, të nderuar qeveritarë, të ...</td>\n",
       "      <td>NEKIBE KELMENDI</td>\n",
       "      <td>2007-01-11</td>\n",
       "    </tr>\n",
       "    <tr>\n",
       "      <th>2007-01-11_100</th>\n",
       "      <td>Ju faleminderit z. Murati. Për fjalë është par...</td>\n",
       "      <td>XHAVIT HALITI</td>\n",
       "      <td>2007-01-11</td>\n",
       "    </tr>\n",
       "    <tr>\n",
       "      <th>2007-01-11_101</th>\n",
       "      <td>Ju faleminderit Z. kryesues. Meqë edhe unë jam...</td>\n",
       "      <td>FETAH BERISHA</td>\n",
       "      <td>2007-01-11</td>\n",
       "    </tr>\n",
       "  </tbody>\n",
       "</table>\n",
       "</div>"
      ],
      "text/plain": [
       "                                                             text  \\\n",
       "id                                                                  \n",
       "2007-01-11_0    PROVISIONAL INSTITUTIONS OF SELF GOVERNMENT KU...   \n",
       "2007-01-11_1    Të nderuar kolegë deputetë, i nderuari kryemin...   \n",
       "2007-01-11_10   I nderuari kryetar, të nderuar qeveritarë, të ...   \n",
       "2007-01-11_100  Ju faleminderit z. Murati. Për fjalë është par...   \n",
       "2007-01-11_101  Ju faleminderit Z. kryesues. Meqë edhe unë jam...   \n",
       "\n",
       "                        speaker        date  \n",
       "id                                           \n",
       "2007-01-11_0               None  2007-01-11  \n",
       "2007-01-11_1       KOLE BERISHA  2007-01-11  \n",
       "2007-01-11_10   NEKIBE KELMENDI  2007-01-11  \n",
       "2007-01-11_100    XHAVIT HALITI  2007-01-11  \n",
       "2007-01-11_101    FETAH BERISHA  2007-01-11  "
      ]
     },
     "execution_count": 4,
     "metadata": {},
     "output_type": "execute_result"
    }
   ],
   "source": [
    "# Load the dataset into a pandas DataFrame.\n",
    "dataset = load_dataset('Kushtrim/Kosovo-Parliament-Transcriptions')\n",
    "dataset = pd.DataFrame(dataset['train']).set_index('id')\n",
    "dataset = dataset.sort_values(by=['id'])\n",
    "dataset.head()"
   ]
  },
  {
   "attachments": {},
   "cell_type": "markdown",
   "metadata": {},
   "source": [
    "# Search by speaker "
   ]
  },
  {
   "cell_type": "code",
   "execution_count": 5,
   "metadata": {},
   "outputs": [],
   "source": [
    "# Search for speakers in the transcript\n",
    "def search_speaker(df, keyword):\n",
    "    keyword = keyword.upper()\n",
    "    keyword = keyword.strip()\n",
    "    df['speaker'].fillna('', inplace=True)\n",
    "    return df[df['speaker'].str.contains(keyword, case=False)]"
   ]
  },
  {
   "cell_type": "code",
   "execution_count": 6,
   "metadata": {},
   "outputs": [
    {
     "data": {
      "text/html": [
       "<div>\n",
       "<style scoped>\n",
       "    .dataframe tbody tr th:only-of-type {\n",
       "        vertical-align: middle;\n",
       "    }\n",
       "\n",
       "    .dataframe tbody tr th {\n",
       "        vertical-align: top;\n",
       "    }\n",
       "\n",
       "    .dataframe thead th {\n",
       "        text-align: right;\n",
       "    }\n",
       "</style>\n",
       "<table border=\"1\" class=\"dataframe\">\n",
       "  <thead>\n",
       "    <tr style=\"text-align: right;\">\n",
       "      <th></th>\n",
       "      <th>text</th>\n",
       "      <th>speaker</th>\n",
       "      <th>date</th>\n",
       "    </tr>\n",
       "    <tr>\n",
       "      <th>id</th>\n",
       "      <th></th>\n",
       "      <th></th>\n",
       "      <th></th>\n",
       "    </tr>\n",
       "  </thead>\n",
       "  <tbody>\n",
       "    <tr>\n",
       "      <th>2017-10-25_312</th>\n",
       "      <td>Faleminderit, kryesues! Përshëndetje deputetë,...</td>\n",
       "      <td>SARANDA BOGUJEVCI</td>\n",
       "      <td>2017-10-25</td>\n",
       "    </tr>\n",
       "    <tr>\n",
       "      <th>2017-11-23_483</th>\n",
       "      <td>Faleminderit! Po e fillojmë numërimin: Vlorë B...</td>\n",
       "      <td>SARANDA BOGUJEVCI</td>\n",
       "      <td>2017-11-23</td>\n",
       "    </tr>\n",
       "    <tr>\n",
       "      <th>2017-11-23_485</th>\n",
       "      <td>Të dashur deputetë, Komisioni votues pas proce...</td>\n",
       "      <td>SARANDA BOGUJEVCI</td>\n",
       "      <td>2017-11-23</td>\n",
       "    </tr>\n",
       "    <tr>\n",
       "      <th>2017-11-23_492</th>\n",
       "      <td>Fillojmë tani numërimin: Valdrin Kasumaj, Vald...</td>\n",
       "      <td>SARANDA BOGUJEVCI</td>\n",
       "      <td>2017-11-23</td>\n",
       "    </tr>\n",
       "    <tr>\n",
       "      <th>2017-12-05_140</th>\n",
       "      <td>Faleminderit! Të nderuar deputetë, Të dashur q...</td>\n",
       "      <td>SARANDA BOGUJEVCI</td>\n",
       "      <td>2017-12-05</td>\n",
       "    </tr>\n",
       "  </tbody>\n",
       "</table>\n",
       "</div>"
      ],
      "text/plain": [
       "                                                             text  \\\n",
       "id                                                                  \n",
       "2017-10-25_312  Faleminderit, kryesues! Përshëndetje deputetë,...   \n",
       "2017-11-23_483  Faleminderit! Po e fillojmë numërimin: Vlorë B...   \n",
       "2017-11-23_485  Të dashur deputetë, Komisioni votues pas proce...   \n",
       "2017-11-23_492  Fillojmë tani numërimin: Valdrin Kasumaj, Vald...   \n",
       "2017-12-05_140  Faleminderit! Të nderuar deputetë, Të dashur q...   \n",
       "\n",
       "                          speaker        date  \n",
       "id                                             \n",
       "2017-10-25_312  SARANDA BOGUJEVCI  2017-10-25  \n",
       "2017-11-23_483  SARANDA BOGUJEVCI  2017-11-23  \n",
       "2017-11-23_485  SARANDA BOGUJEVCI  2017-11-23  \n",
       "2017-11-23_492  SARANDA BOGUJEVCI  2017-11-23  \n",
       "2017-12-05_140  SARANDA BOGUJEVCI  2017-12-05  "
      ]
     },
     "execution_count": 6,
     "metadata": {},
     "output_type": "execute_result"
    }
   ],
   "source": [
    "speaker = search_speaker(dataset, 'Saranda')\n",
    "speaker.head()"
   ]
  },
  {
   "attachments": {},
   "cell_type": "markdown",
   "metadata": {},
   "source": [
    "# Search for keywords"
   ]
  },
  {
   "cell_type": "code",
   "execution_count": 7,
   "metadata": {},
   "outputs": [],
   "source": [
    "# Search for keywords in the transcript\n",
    "def search_keyword(df, keyword):\n",
    "    keyword = keyword.strip()\n",
    "    return df[df['text'].str.contains(keyword, case=False)]"
   ]
  },
  {
   "cell_type": "code",
   "execution_count": 8,
   "metadata": {},
   "outputs": [
    {
     "data": {
      "text/html": [
       "<div>\n",
       "<style scoped>\n",
       "    .dataframe tbody tr th:only-of-type {\n",
       "        vertical-align: middle;\n",
       "    }\n",
       "\n",
       "    .dataframe tbody tr th {\n",
       "        vertical-align: top;\n",
       "    }\n",
       "\n",
       "    .dataframe thead th {\n",
       "        text-align: right;\n",
       "    }\n",
       "</style>\n",
       "<table border=\"1\" class=\"dataframe\">\n",
       "  <thead>\n",
       "    <tr style=\"text-align: right;\">\n",
       "      <th></th>\n",
       "      <th>text</th>\n",
       "      <th>speaker</th>\n",
       "      <th>date</th>\n",
       "    </tr>\n",
       "    <tr>\n",
       "      <th>id</th>\n",
       "      <th></th>\n",
       "      <th></th>\n",
       "      <th></th>\n",
       "    </tr>\n",
       "  </thead>\n",
       "  <tbody>\n",
       "    <tr>\n",
       "      <th>2007-01-11_87</th>\n",
       "      <td>Edhe Grupi i AAK-nës në këtë Kuvend e ka shqyr...</td>\n",
       "      <td>MAZLLOM KUMNOVA</td>\n",
       "      <td>2007-01-11</td>\n",
       "    </tr>\n",
       "    <tr>\n",
       "      <th>2007-01-26_114</th>\n",
       "      <td>I nderuari kryesues, kryeministër, ministra dh...</td>\n",
       "      <td>MARK KRASNIQI</td>\n",
       "      <td>2007-01-26</td>\n",
       "    </tr>\n",
       "    <tr>\n",
       "      <th>2007-03-14_6</th>\n",
       "      <td>I nderuari president, i nderuari kryesues, dep...</td>\n",
       "      <td>HASHIM THAÇI</td>\n",
       "      <td>2007-03-14</td>\n",
       "    </tr>\n",
       "    <tr>\n",
       "      <th>2007-03-30_2</th>\n",
       "      <td>I nderuari kryesues, të nderuar ministra, të n...</td>\n",
       "      <td>RAMADAN KELMENDI</td>\n",
       "      <td>2007-03-30</td>\n",
       "    </tr>\n",
       "    <tr>\n",
       "      <th>2007-05-10_64</th>\n",
       "      <td>I nderuar ministër. Para se të vij në seancë u...</td>\n",
       "      <td>QIBRIJE HOXHA</td>\n",
       "      <td>2007-05-10</td>\n",
       "    </tr>\n",
       "  </tbody>\n",
       "</table>\n",
       "</div>"
      ],
      "text/plain": [
       "                                                             text  \\\n",
       "id                                                                  \n",
       "2007-01-11_87   Edhe Grupi i AAK-nës në këtë Kuvend e ka shqyr...   \n",
       "2007-01-26_114  I nderuari kryesues, kryeministër, ministra dh...   \n",
       "2007-03-14_6    I nderuari president, i nderuari kryesues, dep...   \n",
       "2007-03-30_2    I nderuari kryesues, të nderuar ministra, të n...   \n",
       "2007-05-10_64   I nderuar ministër. Para se të vij në seancë u...   \n",
       "\n",
       "                         speaker        date  \n",
       "id                                            \n",
       "2007-01-11_87    MAZLLOM KUMNOVA  2007-01-11  \n",
       "2007-01-26_114     MARK KRASNIQI  2007-01-26  \n",
       "2007-03-14_6        HASHIM THAÇI  2007-03-14  \n",
       "2007-03-30_2    RAMADAN KELMENDI  2007-03-30  \n",
       "2007-05-10_64      QIBRIJE HOXHA  2007-05-10  "
      ]
     },
     "execution_count": 8,
     "metadata": {},
     "output_type": "execute_result"
    }
   ],
   "source": [
    "keyword = search_keyword(dataset, 'paqe')\n",
    "keyword.head()"
   ]
  }
 ],
 "metadata": {
  "kernelspec": {
   "display_name": "Python 3",
   "language": "python",
   "name": "python3"
  },
  "language_info": {
   "codemirror_mode": {
    "name": "ipython",
    "version": 3
   },
   "file_extension": ".py",
   "mimetype": "text/x-python",
   "name": "python",
   "nbconvert_exporter": "python",
   "pygments_lexer": "ipython3",
   "version": "3.9.12"
  },
  "orig_nbformat": 4
 },
 "nbformat": 4,
 "nbformat_minor": 2
}
